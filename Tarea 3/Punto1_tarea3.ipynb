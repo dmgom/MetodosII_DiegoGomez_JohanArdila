{
 "cells": [
  {
   "cell_type": "code",
   "execution_count": 1,
   "id": "6edde35c",
   "metadata": {},
   "outputs": [],
   "source": [
    "import numpy as np\n",
    "import matplotlib.pyplot as plt\n",
    "from scipy import integrate"
   ]
  },
  {
   "cell_type": "code",
   "execution_count": 9,
   "id": "9b957fae",
   "metadata": {},
   "outputs": [],
   "source": [
    "def System(r,t):\n",
    "    x,y=r\n",
    "    dx=2*x-y\n",
    "    dy=2*y+x\n",
    "    return np.array([dx,dy])"
   ]
  },
  {
   "cell_type": "code",
   "execution_count": 10,
   "id": "956d045a",
   "metadata": {},
   "outputs": [],
   "source": [
    "def IntegratorAdams4Moulton5(f,r0,t):   \n",
    "    h = t[1] - t[0]\n",
    "    print(h)\n",
    "    \n",
    "    y = np.zeros_like(t)\n",
    "    vx = np.zeros_like(t)\n",
    "    \n",
    "    y[0] = r0[0]\n",
    "    vx[0] = r0[1]\n",
    "    \n",
    "    K11 = np.zeros(2)\n",
    "    K12 = np.zeros(2)\n",
    "    K13 = np.zeros(2)\n",
    "    K14 = np.zeros(2)\n",
    "    \n",
    "    \n",
    "    present = np.array([y[0]])\n",
    " \n",
    "    # RungeKutta4, halla los 3 puntos siguientes para obtener 4 puntos en total\n",
    "    for i in range(1,5):\n",
    "        K11 = f(np.array([y[i-1],vx[i-1]]),t[i-1])\n",
    "        K12 = f(np.array([y[i-1],vx[i-1]])+0.5*h*K11,t[i-1])\n",
    "        #print(np.array([x[i-1],vx[i-1]]), np.array([x[i-1],vx[i-1]])+0.5*h*K11)\n",
    "        K13 = f(np.array([y[i-1],vx[i-1]])+0.5*h*K12,t[i-1])\n",
    "        K14 = f(np.array([y[i-1],vx[i-1]])+h*K13,t[i-1])\n",
    "        \n",
    "        y[i] = y[i-1] + (h/6)*(K11[0]+2*K12[0]+2*K13[0]+K14[0])\n",
    "        vx[i] = vx[i-1] + (h/6)*(K11[1]+2*K12[1]+2*K13[1]+K14[1])\n",
    "    \n",
    "    yc = y.copy()\n",
    "    vxc = vx.copy()\n",
    "    \n",
    "    for i in range(5,len(t)):\n",
    "        \n",
    "        present = np.array([y[i-1],vx[i-1]])\n",
    "        past1 = np.array([y[i-2],vx[i-1]])\n",
    "        past2 = np.array([y[i-3],vx[i-1]])\n",
    "        past3 = np.array([y[i-4],vx[i-1]])\n",
    "        past4 = np.array([y[i-5],vx[i-1]])\n",
    "        \n",
    "        Kn_3 = f(present,t[i-1])\n",
    "        Kn_2 = f(past1,t[i-2])\n",
    "        Kn_1 = f(past2,t[i-3])\n",
    "        Kn   = f(past3,t[i-4])        \n",
    "        Kn_  = f(past4,t[i-5])\n",
    "        \n",
    "        \n",
    "        y[i] = y[i-1] + h*(1901*Kn_3[0]-2774*Kn_2[0]+2616*Kn_1[0]-1274*Kn[0]+251*Kn_[0])/720\n",
    "        vx[i] = vx[i-1] + h*(1901*Kn_3[1] - 2774*Kn_2[1] + 2616*Kn_1[1] - 1274*Kn[1] + 251*Kn_[1]) / 720\n",
    "        \n",
    "        yc[i] = y[i]\n",
    "        vxc[i] = vx[i]\n",
    "        \n",
    "        # Futuro\n",
    "        futuro = np.array([y[i],vx[i-1]])\n",
    "        Kn_4 = f(futuro,t[i])\n",
    "        \n",
    "        yc[i] = yc[i-1] + h*(475*Kn_4[0]+1427*Kn_3[0]-798*Kn_2[0] + 482*Kn_1[0] -173*Kn[0] +27*Kn_[0])/1440\n",
    "        vxc[i] = vxc[i-1] + h*(475*Kn_4[1] + 1427*Kn_3[1] - 798*Kn_2[1] + 482*Kn_1[1] - 173*Kn[1] + 27*Kn_[1]) / 1440\n",
    "    \n",
    "    return y,yc,vxc,vx#x,vx,xc,vxc"
   ]
  },
  {
   "cell_type": "code",
   "execution_count": 18,
   "id": "3b08a991",
   "metadata": {},
   "outputs": [
    {
     "name": "stdout",
     "output_type": "stream",
     "text": [
      "0.002000200020002\n"
     ]
    }
   ],
   "source": [
    "t = np.linspace(0,20,10000)\n",
    "r0 = [-1., -1.]\n",
    "sol3 = IntegratorAdams4Moulton5(System,r0,t)\n",
    "x_,y_=sol3[2],sol3[3]"
   ]
  },
  {
   "cell_type": "code",
   "execution_count": 19,
   "id": "8cf4a594",
   "metadata": {},
   "outputs": [
    {
     "data": {
      "text/plain": [
       "<matplotlib.collections.PathCollection at 0x28b4727bc10>"
      ]
     },
     "execution_count": 19,
     "metadata": {},
     "output_type": "execute_result"
    },
    {
     "data": {
      "image/png": "[encoded data removed]",
      "text/plain": [
       "<Figure size 640x480 with 1 Axes>"
      ]
     },
     "metadata": {},
     "output_type": "display_data"
    }
   ],
   "source": [
    "plt.scatter(sol3[2],sol3[3],marker='.',color='k')"
   ]
  },
  {
   "cell_type": "code",
   "execution_count": 20,
   "id": "f4331d7c",
   "metadata": {},
   "outputs": [
    {
     "name": "stdout",
     "output_type": "stream",
     "text": [
      "Valores propios: [2.+1.j 2.-1.j]\n",
      "Vectores propios:\n",
      "Valor propio: (2+1j)\n",
      "Vector propio: [0.70710678+0.j         0.        -0.70710678j]\n",
      "Valor propio: (2-1j)\n",
      "Vector propio: [0.70710678-0.j         0.        +0.70710678j]\n"
     ]
    }
   ],
   "source": [
    "M = np.array([[2, -1], [1, 2]])\n",
    "eigenvalues, eigenvectors = np.linalg.eig(M)\n",
    "\n",
    "print(\"Valores propios:\", eigenvalues)\n",
    "print(\"Vectores propios:\")\n",
    "for i in range(len(eigenvalues)):\n",
    "    print(\"Valor propio:\", eigenvalues[i])\n",
    "    print(\"Vector propio:\", eigenvectors[:, i])"
   ]
  },
  {
   "cell_type": "markdown",
   "id": "fb726dfd",
   "metadata": {},
   "source": [
    "El punto crítico es 0,0 que es donde convergen"
   ]
  },
  {
   "cell_type": "code",
   "execution_count": null,
   "id": "1fd0fe08",
   "metadata": {},
   "outputs": [],
   "source": []
  }
 ],
 "metadata": {
  "kernelspec": {
   "display_name": "Python 3 (ipykernel)",
   "language": "python",
   "name": "python3"
  },
  "language_info": {
   "codemirror_mode": {
    "name": "ipython",
    "version": 3
   },
   "file_extension": ".py",
   "mimetype": "text/x-python",
   "name": "python",
   "nbconvert_exporter": "python",
   "pygments_lexer": "ipython3",
   "version": "3.11.4"
  }
 },
 "nbformat": 4,
 "nbformat_minor": 5
}
