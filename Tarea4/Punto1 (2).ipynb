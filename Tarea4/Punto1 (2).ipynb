{
 "cells": [
  {
   "cell_type": "code",
   "execution_count": 1,
   "id": "70305f77",
   "metadata": {},
   "outputs": [],
   "source": [
    "import numpy as np\n",
    "import matplotlib.pyplot as plt"
   ]
  },
  {
   "cell_type": "markdown",
   "id": "2d36ef81",
   "metadata": {},
   "source": [
    "El error del articulo radica en que al realizar la parte del predictor la indexación de la aceleración debería ser\n",
    "en el tiempo actual, pero en las ecuaciones la indexación de a parece incorrecta:\n",
    "\n",
    "$ r_{n+1} = r_n + hv_n + h^2 \\sum_{p=1}^{q-1} b_p a_{n-q+1} $\n",
    "\n",
    "$ r_{n+1} = r_n + hv_n + h^2 \\sum_{p=1}^{q-1} c_p a_{n-q+2} $\n",
    "\n",
    "$ hv_{n+1} = r_{n+1} - r_n + h^2 \\sum_{p=1}^{q-1} c_p a_{n-q+2} $\n",
    "Mientras las ecuaciones deberían ser así: \n",
    "\n",
    "$ r_{n+1} = r_n + hv_n + h^2 \\sum_{p=1}^{q-1} b_p a_{n-p+1} $\n",
    "\n",
    "$ r_{n+1} = r_n + hv_n + h^2 \\sum_{p=1}^{q-1} c_p a_{n-p+2} $\n",
    "\n",
    "$ hv_{n+1} = r_{n+1} - r_n + h^2 \\sum_{p=1}^{q-1} c_p a_{n-p+2} $"
   ]
  },
  {
   "cell_type": "markdown",
   "id": "3f4b7cce",
   "metadata": {},
   "source": []
  },
  {
   "cell_type": "code",
   "execution_count": 2,
   "id": "57abeb76",
   "metadata": {},
   "outputs": [],
   "source": [
    "def calculate_acceleration(r, m, e_over_sigma, sigma):\n",
    "    \"\"\"\n",
    "    Calcula a con potencial de Lennard-Jones.\n",
    "    \"\"\"\n",
    "    N = len(r) // 3  # Número de moléculas\n",
    "    a = [0] * len(r)\n",
    "    \n",
    "    for i in range(N):\n",
    "        a_i = [0, 0, 0]\n",
    "        for j in range(N):\n",
    "            if i != j:\n",
    "                r_ij = [r[i*3+k] - r[j*3+k] for k in range(3)]\n",
    "                r_ij_norm = sum([x ** 2 for x in r_ij]) ** 0.5\n",
    "                force_magnitude = 48 * e_over_sigma * ((sigma / r_ij_norm) ** 13 - 0.5 * (sigma / r_ij_norm) ** 7)\n",
    "                for k in range(3):\n",
    "                    a_i[k] += force_magnitude * r_ij[k] / r_ij_norm\n",
    "        for k in range(3):\n",
    "            a[i*3+k] = a_i[k] / m\n",
    "    return a\n",
    "\n",
    "def calculate_position(r_prev, v, a_prev, a_current, h):\n",
    "    r_new = []\n",
    "    for i in range(len(r_prev) // 3):\n",
    "        index = i * 3\n",
    "        r_new.append(r_prev[index] + h * v[index] + (h ** 2 / 6) * (4 * a_current[index] - a_prev[index]))\n",
    "        r_new.append(r_prev[index + 1] + h * v[index + 1] + (h ** 2 / 6) * (4 * a_current[index + 1] - a_prev[index + 1]))\n",
    "        r_new.append(r_prev[index + 2] + h * v[index + 2] + (h ** 2 / 6) * (4 * a_current[index + 2] - a_prev[index + 2]))\n",
    "    return r_new\n",
    "\n",
    "\n",
    "def calculate_velocity(v_prev, a_prev, a_current, a_next, h):\n",
    "    v_new = []\n",
    "    for v_i, a_prev_i, a_current_i, a_next_i in zip(v_prev, a_prev, a_current, a_next):\n",
    "        v_new.append(v_i + (h / 6) * (2 * a_next_i + 5 * a_current_i - a_prev_i))\n",
    "    return v_new"
   ]
  },
  {
   "cell_type": "code",
   "execution_count": 3,
   "id": "0b7f5422",
   "metadata": {},
   "outputs": [],
   "source": [
    "def beeman_predictor_corrector(r, v, a, h, m, e_over_sigma, sigma):\n",
    "    \"\"\"\n",
    "    Implementa el algoritmo predictor-corrector de Beeman para integración numérica.\n",
    "    \"\"\"\n",
    "    N = len(r) // 3  # Número de moléculas\n",
    "    \n",
    "    #predicción\n",
    "    r_predicted = [0] * len(r)\n",
    "    v_predicted = [0] * len(v)\n",
    "    \n",
    "    \n",
    "    for i in range(N):\n",
    "        r_prev = r[i*3:i*3+3]\n",
    "        v_prev = v[i*3:i*3+3]\n",
    "        a_prev = a[i*3:i*3+3]\n",
    "        a_current = a[i*3+3:i*3+6] if i < N - 1 else [0, 0, 0]  # Último paso, no hay aceleración futura\n",
    "        r_predicted[i*3:i*3+3] = calculate_position(r_prev, v_prev, a_prev, a_current, h)\n",
    "        v_predicted[i*3:i*3+3] = calculate_velocity(v_prev, a_prev, a_current, a[i*3+6:i*3+9], h)\n",
    "    \n",
    "    #corrección\n",
    "    for i in range(N):\n",
    "        a_predicted = [0, 0, 0] if i == N - 1 else a[(i+1)*3:(i+1)*3+3]\n",
    "        a_corrected = a_predicted\n",
    "        if i > 0:\n",
    "            a_corrected = [(a_predicted[j] + 2 * a[i*3+j] - a_prev[j]) / 3 for j in range(3)]\n",
    "        a_prev = a[i*3:i*3+3]\n",
    "        v[i*3:i*3+3] = calculate_velocity(v[i*3:i*3+3], a_prev, a_predicted, a_corrected, h)\n",
    "        r[i*3:i*3+3] = calculate_position(r[i*3:i*3+3], v[i*3:i*3+3], a_prev, a_corrected, h)\n",
    "    return r, v"
   ]
  },
  {
   "cell_type": "code",
   "execution_count": null,
   "id": "d6f54640",
   "metadata": {},
   "outputs": [],
   "source": [
    "N = 1000  # N\n",
    "h = 0.01  # Paso de tiempo\n",
    "m = 1.0   # Masa\n",
    "e_over_sigma = 1.0  # Energía de Lennard-Jones dividida por sigma\n",
    "sigma = 1.0  #sigma del potencial de Lennard-Jones\n",
    "r = np.random.rand(N * 3)  # Posiciones aleatorias entre 0 y 1\n",
    "v = np.zeros(N * 3)  # Velocidades iniciales\n",
    "a = calculate_acceleration(r, m, e_over_sigma, sigma)  # Calcular aceleraciones iniciales\n",
    "timesteps = 1000\n",
    "positions = []\n",
    "velocities = []\n",
    "times = []\n",
    "for _ in range(timesteps):\n",
    "    r, v = beeman_predictor_corrector(r, v, a, h, m, e_over_sigma, sigma)\n",
    "    positions.append(r.copy())\n",
    "    velocities.append(v.copy())\n",
    "    times.append(_ * h)\n",
    "\n",
    "positions = np.array(positions)\n",
    "velocities = np.array(velocities)\n",
    "times = np.array(times)"
   ]
  },
  {
   "cell_type": "code",
   "execution_count": null,
   "id": "f807a5f0",
   "metadata": {},
   "outputs": [],
   "source": [
    "plt.figure(figsize=(10, 10))\n",
    "for i in range(N):\n",
    "    plt.plot(times, positions[:, i*3])\n",
    "plt.xlabel('Tiempo')\n",
    "plt.ylabel('Posicion')\n",
    "plt.title('Posicion vs Tiempo para cada molecula')\n",
    "plt.legend()\n",
    "plt.grid(True)\n",
    "plt.show()\n",
    "plt.show()"
   ]
  },
  {
   "cell_type": "code",
   "execution_count": null,
   "id": "5f3c7539",
   "metadata": {},
   "outputs": [],
   "source": []
  },
  {
   "cell_type": "code",
   "execution_count": null,
   "id": "d41e4a47",
   "metadata": {},
   "outputs": [],
   "source": []
  }
 ],
 "metadata": {
  "kernelspec": {
   "display_name": "Python 3 (ipykernel)",
   "language": "python",
   "name": "python3"
  },
  "language_info": {
   "codemirror_mode": {
    "name": "ipython",
    "version": 3
   },
   "file_extension": ".py",
   "mimetype": "text/x-python",
   "name": "python",
   "nbconvert_exporter": "python",
   "pygments_lexer": "ipython3",
   "version": "3.11.4"
  }
 },
 "nbformat": 4,
 "nbformat_minor": 5
}
