{
  "nbformat": 4,
  "nbformat_minor": 0,
  "metadata": {
    "colab": {
      "provenance": []
    },
    "kernelspec": {
      "name": "python3",
      "display_name": "Python 3"
    },
    "language_info": {
      "name": "python"
    }
  },
  "cells": [
    {
      "cell_type": "code",
      "execution_count": 94,
      "metadata": {
        "id": "vBBOMIEPvRqs"
      },
      "outputs": [],
      "source": [
        "import numpy as np\n",
        "import matplotlib.pyplot as plt\n",
        "import matplotlib.animation as anim\n",
        "from tqdm import tqdm"
      ]
    },
    {
      "cell_type": "code",
      "source": [
        "class Planeta:\n",
        "\n",
        "    def __init__(self, e, a, t):\n",
        "\n",
        "        self.t = t\n",
        "        self.dt = t[1] - t[0] # Paso del tiempo\n",
        "\n",
        "        self.e = e # Excentricidad\n",
        "        self.a_ = a # Semi-eje mayor\n",
        "\n",
        "        self.G = 4*np.pi**2 # Unidades gaussianas\n",
        "\n",
        "        self.r = np.zeros(3)\n",
        "        self.v = np.zeros_like(self.r)\n",
        "        self.a = np.zeros_like(self.r)\n",
        "\n",
        "        self.r[0] = self.a_*(1-self.e)\n",
        "        self.v[1] = np.sqrt( self.G*(1+self.e)/(self.a_*(1.-self.e)) )\n",
        "\n",
        "        self.R = np.zeros((len(t),len(self.r)))\n",
        "        self.V = np.zeros_like(self.R)\n",
        "\n",
        "        # El valor del pasado\n",
        "        self.rp = self.r\n",
        "\n",
        "    def GetAceleration(self):\n",
        "\n",
        "        d = np.linalg.norm(self.r)\n",
        "        self.a = -self.G/d**3*self.r\n",
        "\n",
        "\n",
        "    def Evolution(self,i):\n",
        "\n",
        "        self.SetPosition(i)\n",
        "        self.SetVelocity(i)\n",
        "        self.GetAceleration()\n",
        "\n",
        "        if i==0:\n",
        "            self.r = self.rp + self.v*self.dt\n",
        "        else:\n",
        "\n",
        "            # rp pasado, r presente rf futuro\n",
        "            self.rf = 2*self.r - self.rp + self.a*self.dt**2\n",
        "            self.v = (self.rf - self.rp)/(2*self.dt)\n",
        "\n",
        "            self.rp = self.r\n",
        "            self.r = self.rf\n",
        "\n",
        "    def SetPosition(self,i):\n",
        "        self.R[i] = self.r\n",
        "\n",
        "    def SetVelocity(self,i):\n",
        "        self.V[i] = self.v\n",
        "\n",
        "    def GetPosition(self,scale=1):\n",
        "        return self.R[::scale]\n",
        "\n",
        "    def GetVelocity(self,scale=1):\n",
        "        return self.V[::scale]\n",
        "\n",
        "    def GetPerihelio(self):\n",
        "\n",
        "        Dist = np.linalg.norm(self.R,axis=1)\n",
        "\n",
        "        timeup = []\n",
        "\n",
        "        for i in range(1,len(Dist)-1):\n",
        "            if Dist[i] < Dist[i-1] and Dist[i] < Dist[i+1]:\n",
        "                timeup.append(self.t[i])\n",
        "\n",
        "        return timeup"
      ],
      "metadata": {
        "id": "W9m2E-Ugvbiy"
      },
      "execution_count": 95,
      "outputs": []
    },
    {
      "cell_type": "code",
      "source": [
        "def GetPlanetas(t):\n",
        "    Mercurio = Planeta(0.2056,0.387,t)\n",
        "    Venus = Planeta(0.0067,0.7233,t)\n",
        "    Tierra = Planeta(0.01671,1.,t)\n",
        "    Marte = Planeta(0.093,1.524,t)\n",
        "    Jupiter = Planeta(0.049, 5.20440, t)\n",
        "    Saturno = Planeta(0.057, 9.5826, t)\n",
        "    Urano = Planeta(0.046, 19.2184, t)\n",
        "    Neptuno = Planeta(0.010, 30.11, t)\n",
        "    return [Mercurio,Venus,Tierra, Marte, Jupiter, Saturno, Urano, Neptuno]"
      ],
      "metadata": {
        "id": "HIklXF8HvefM"
      },
      "execution_count": 78,
      "outputs": []
    },
    {
      "cell_type": "code",
      "source": [
        "def GetPeriodo(planeta):\n",
        "    perihelio = np.min(np.linalg.norm(planeta.R, axis=1)) # tuve que hacer esto para el perihelio ya que la funcion del codigo original no arroja resultado correcto del perihelio\n",
        "    print(\"perihelio\")\n",
        "    print(perihelio)\n",
        "    periodo = 2 * np.pi * np.sqrt(perihelio**3 / planeta.G)\n",
        "    return periodo"
      ],
      "metadata": {
        "id": "Qgy58ZhlMGw4"
      },
      "execution_count": 123,
      "outputs": []
    },
    {
      "cell_type": "code",
      "source": [
        "dt = 0.001\n",
        "tmax = 5\n",
        "t = np.arange(0.,tmax,dt)\n",
        "Planetas = GetPlanetas(t)"
      ],
      "metadata": {
        "id": "x9RTFbrax6FU"
      },
      "execution_count": 79,
      "outputs": []
    },
    {
      "cell_type": "code",
      "source": [
        "def RunSimulation(t,Planetas):\n",
        "\n",
        "    for it in tqdm(range(len(t)), desc='Running simulation', unit=' Steps' ):\n",
        "\n",
        "        #print(it)\n",
        "        for i in range(len(Planetas)):\n",
        "            Planetas[i].Evolution(it)\n",
        "            # Aca debes agregar la interaccion con la pared\n",
        "\n",
        "\n",
        "    return Planetas"
      ],
      "metadata": {
        "id": "bsdzueBpyAmX"
      },
      "execution_count": 80,
      "outputs": []
    },
    {
      "cell_type": "code",
      "source": [
        "Planetas = RunSimulation(t,Planetas)"
      ],
      "metadata": {
        "colab": {
          "base_uri": "https://localhost:8080/"
        },
        "id": "QBLFsCU8yFk8",
        "outputId": "5efcc6cb-f9e8-4ee4-a481-19cdea70ee7a"
      },
      "execution_count": 115,
      "outputs": [
        {
          "output_type": "stream",
          "name": "stderr",
          "text": [
            "Running simulation: 100%|██████████| 5000/5000 [00:00<00:00, 11079.17 Steps/s]\n"
          ]
        }
      ]
    },
    {
      "cell_type": "code",
      "source": [
        "Planetas[1].GetPerihelio()"
      ],
      "metadata": {
        "colab": {
          "base_uri": "https://localhost:8080/"
        },
        "id": "Yl6B_5G4yKNs",
        "outputId": "fa2bb3d7-241b-4e24-9b37-954464497f4a"
      },
      "execution_count": 100,
      "outputs": [
        {
          "output_type": "execute_result",
          "data": {
            "text/plain": [
              "[0.552,\n",
              " 1.167,\n",
              " 1.782,\n",
              " 2.3970000000000002,\n",
              " 3.013,\n",
              " 3.628,\n",
              " 4.243,\n",
              " 4.8580000000000005]"
            ]
          },
          "metadata": {},
          "execution_count": 100
        }
      ]
    },
    {
      "cell_type": "code",
      "source": [
        "scale = 20\n",
        "t1 = t[::scale]"
      ],
      "metadata": {
        "id": "JzAnf6dr06M-"
      },
      "execution_count": 97,
      "outputs": []
    },
    {
      "cell_type": "markdown",
      "source": [],
      "metadata": {
        "id": "lHJwP33xxwPL"
      }
    },
    {
      "cell_type": "code",
      "source": [
        "#plt.plot(Planetas[1].GetPosition()[:,0],Planetas[1].GetPosition()[:,1])"
      ],
      "metadata": {
        "id": "xmbvBezn1K8W"
      },
      "execution_count": 98,
      "outputs": []
    },
    {
      "cell_type": "code",
      "source": [
        "fig = plt.figure(figsize=(8,5))\n",
        "ax = fig.add_subplot(221,projection='3d')\n",
        "ax1 = fig.add_subplot(222)\n",
        "ax2 = fig.add_subplot(223)\n",
        "\n",
        "colors=['r','k','b']\n",
        "\n",
        "def init():\n",
        "\n",
        "    ax.clear()\n",
        "    ax.set_xlim(-1,1)\n",
        "    ax.set_ylim(-1,1)\n",
        "    ax.set_zlim(-1,1)\n",
        "\n",
        "    ax1.clear()\n",
        "    ax1.set_xlim(-1,1)\n",
        "    ax1.set_ylim(-1,1)\n",
        "\n",
        "    ax2.clear()\n",
        "    ax2.set_xlim(-2,2)\n",
        "    ax2.set_ylim(-2,2)\n",
        "\n",
        "def Update(i):\n",
        "\n",
        "    init()\n",
        "\n",
        "    for j, p in enumerate(Planetas):\n",
        "\n",
        "        x = p.GetPosition(scale)[i,0]\n",
        "        y = p.GetPosition(scale)[i,1]\n",
        "        z = p.GetPosition(scale)[i,2]\n",
        "\n",
        "        vx = p.GetVelocity(scale)[i,0]\n",
        "        vy = p.GetVelocity(scale)[i,1]\n",
        "        vz = p.GetVelocity(scale)[i,2]\n",
        "\n",
        "        ax.scatter(0,0,0,s=200,color='y')\n",
        "        ax.quiver(x,y,z,vx,vy,vz,color=colors[j],length=0.03)\n",
        "\n",
        "        ax.scatter(x,y,z,color=colors[j])\n",
        "\n",
        "        circle = plt.Circle((x,y),0.1,color=colors[j],fill=True)\n",
        "        ax1.add_patch(circle)\n",
        "\n",
        "    # Mercurio visto desde tierra\n",
        "    Mx = Planetas[0].GetPosition(scale)[:i,0] - Planetas[2].GetPosition(scale)[:i,0]\n",
        "    My = Planetas[0].GetPosition(scale)[:i,1] - Planetas[2].GetPosition(scale)[:i,1]\n",
        "\n",
        "    # Venus visto desde tierra\n",
        "    Vx = Planetas[1].GetPosition(scale)[:i,0] - Planetas[2].GetPosition(scale)[:i,0]\n",
        "    Vy = Planetas[1].GetPosition(scale)[:i,1] - Planetas[2].GetPosition(scale)[:i,1]\n",
        "\n",
        "    ax2.scatter(Mx,My,marker='.',label='Mercurio')\n",
        "    ax2.scatter(Vx,Vy,marker='.',label='Venus')\n",
        "\n",
        "Animation = anim.FuncAnimation(fig,Update,frames=len(t1),init_func=init)"
      ],
      "metadata": {
        "colab": {
          "base_uri": "https://localhost:8080/",
          "height": 471
        },
        "id": "VrHuh2XA1-Ds",
        "outputId": "0ac64bc7-74dd-4678-d6a3-ff9d2e8d86b6"
      },
      "execution_count": 99,
      "outputs": [
        {
          "output_type": "display_data",
          "data": {
            "text/plain": [
              "<Figure size 800x500 with 3 Axes>"
            ],
            "image/png": "[encoded data removed]"
          },
          "metadata": {}
        }
      ]
    },
    {
      "cell_type": "code",
      "source": [
        "semi_ejes = np.array([planeta.a_ for planeta in Planetas])\n",
        "periodos = np.array([GetPeriodo(planeta) for planeta in Planetas])"
      ],
      "metadata": {
        "colab": {
          "base_uri": "https://localhost:8080/"
        },
        "id": "wNosE3qYM6_M",
        "outputId": "65346aba-2905-4eec-d516-fb00601f8ea6"
      },
      "execution_count": 125,
      "outputs": [
        {
          "output_type": "stream",
          "name": "stdout",
          "text": [
            "perihelio\n",
            "0.3100145351241161\n",
            "perihelio\n",
            "0.7135939187769863\n",
            "perihelio\n",
            "0.9821341810095852\n",
            "perihelio\n",
            "1.3836621031281529\n",
            "perihelio\n",
            "5.0737576844694585\n",
            "perihelio\n",
            "9.340717915075546\n",
            "perihelio\n",
            "18.401153271792484\n",
            "perihelio\n",
            "29.814546270143893\n"
          ]
        }
      ]
    },
    {
      "cell_type": "code",
      "source": [
        "# cmporbar la tercera ley de Kepler para cada planeta\n",
        "for i, planeta in enumerate(Planetas):\n",
        "    periodo_cuadrado = periodos[i]**2\n",
        "    semi_eje_cubo = semi_ejes[i]**3\n",
        "    proporcionalidad = periodo_cuadrado / semi_eje_cubo\n",
        "    print(periodo_cuadrado)\n",
        "    print(f\"Planeta {i+1}: Proporcionalidad = {proporcionalidad}\")"
      ],
      "metadata": {
        "colab": {
          "base_uri": "https://localhost:8080/"
        },
        "id": "GPocormcO-K3",
        "outputId": "447dc4ce-d194-4bfd-9fdf-ec29a488963e"
      },
      "execution_count": 126,
      "outputs": [
        {
          "output_type": "stream",
          "name": "stdout",
          "text": [
            "0.02979519067276669\n",
            "Planeta 1: Proporcionalidad = 0.5140593632672642\n",
            "0.36337364140353157\n",
            "Planeta 2: Proporcionalidad = 0.9602803138417287\n",
            "0.9473544029474622\n",
            "Planeta 3: Proporcionalidad = 0.9473544029474622\n",
            "2.6490498982414152\n",
            "Planeta 4: Proporcionalidad = 0.7484025142799107\n",
            "130.61383053174518\n",
            "Planeta 5: Proporcionalidad = 0.9265677106190752\n",
            "814.9684016990282\n",
            "Planeta 6: Proporcionalidad = 0.926169958985278\n",
            "6230.6754285137\n",
            "Planeta 7: Proporcionalidad = 0.8777754770229138\n",
            "26502.363928795032\n",
            "Planeta 8: Proporcionalidad = 0.9708504736940763\n"
          ]
        }
      ]
    },
    {
      "cell_type": "markdown",
      "source": [],
      "metadata": {
        "id": "bHMKuW-sS-SD"
      }
    },
    {
      "cell_type": "code",
      "source": [
        "def linear_regression(x, y):\n",
        "    n = len(x)\n",
        "    mean_x, mean_y = np.mean(x), np.mean(y)\n",
        "    xy_mean = np.mean(x * y)\n",
        "    xx_mean = np.mean(x**2)\n",
        "\n",
        "    slope = (xy_mean - mean_x * mean_y) / (xx_mean - mean_x**2)\n",
        "    intercept = mean_y - slope * mean_x\n",
        "\n",
        "    return slope, intercept"
      ],
      "metadata": {
        "id": "0PzrhUxFNrIc"
      },
      "execution_count": 107,
      "outputs": []
    },
    {
      "cell_type": "code",
      "source": [
        "plt.scatter(semi_ejes**3, periodos**2, label='Datos')\n",
        "slope, intercept = linear_regression(semi_ejes**3, periodos**2)\n",
        "fit_line = slope * semi_ejes**3 + intercept\n",
        "plt.plot(semi_ejes**3, fit_line, color='red', label='Regresión Lineal')\n",
        "plt.xlabel('Semi-eje Mayor al Cubo (a^3)')\n",
        "plt.ylabel('Periodo al Cuadrado (T^2)')\n",
        "plt.legend()\n",
        "plt.show()"
      ],
      "metadata": {
        "colab": {
          "base_uri": "https://localhost:8080/",
          "height": 449
        },
        "id": "8v0z8W1bNzZT",
        "outputId": "1530d5b4-d13a-403b-ab90-768e6e5e44e5"
      },
      "execution_count": 108,
      "outputs": [
        {
          "output_type": "display_data",
          "data": {
            "text/plain": [
              "<Figure size 640x480 with 1 Axes>"
            ],
            "image/png": "[encoded data removed]"
          },
          "metadata": {}
        }
      ]
    },
    {
      "cell_type": "code",
      "source": [
        "\n",
        "print(f'Pendiente de la regresión lineal: {slope}')\n",
        "\n",
        "masa_sol_gauss = slope / (4 * np.pi**2)\n",
        "masa_sol_si = masa_sol_gauss * 1.32712440018e20\n",
        "print(f'Masa del Sol en unidades gaussianas: {masa_sol_gauss} U.G.')\n",
        "print(f'Masa del Sol en unidades SI: {masa_sol_si} kg')"
      ],
      "metadata": {
        "colab": {
          "base_uri": "https://localhost:8080/"
        },
        "id": "TAEM49zTN4qJ",
        "outputId": "5cfa9041-907d-4b4b-ace2-4d078295846e"
      },
      "execution_count": 111,
      "outputs": [
        {
          "output_type": "stream",
          "name": "stdout",
          "text": [
            "Pendiente de la regresión lineal: 0.968027276987485\n",
            "Masa del Sol en unidades gaussianas: 0.02452041737561029 U.G.\n",
            "Masa del Sol en unidades SI: 3.2541644201770056e+18 kg\n"
          ]
        }
      ]
    }
  ]
}